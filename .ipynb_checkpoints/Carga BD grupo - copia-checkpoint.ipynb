{
 "cells": [
  {
   "cell_type": "code",
   "execution_count": 1,
   "metadata": {},
   "outputs": [],
   "source": [
    "import pandas as pd\n",
    "import pymysql\n",
    "from sqlalchemy import create_engine\n",
    "import mysql.connector\n",
    "from os import listdir\n",
    "from os.path import isfile, join"
   ]
  },
  {
   "cell_type": "code",
   "execution_count": 4,
   "metadata": {},
   "outputs": [],
   "source": [
    "db = pymysql.connect(host = 'database-test2.colignxg6rlu.eu-central-1.rds.amazonaws.com', user = 'admin', password = 'Ventana21')\n",
    "cursor = db.cursor()\n"
   ]
  },
  {
   "cell_type": "code",
   "execution_count": 10,
   "metadata": {},
   "outputs": [],
   "source": [
    "host = 'database-test2.colignxg6rlu.eu-central-1.rds.amazonaws.com'\n",
    "user = 'admin'\n",
    "password = 'Ventana21'\n",
    "db_name = 'Torrentes'"
   ]
  },
  {
   "cell_type": "code",
   "execution_count": 11,
   "metadata": {},
   "outputs": [
    {
     "data": {
      "text/plain": [
       "0"
      ]
     },
     "execution_count": 11,
     "metadata": {},
     "output_type": "execute_result"
    }
   ],
   "source": [
    "sql = '''use Torrentes'''\n",
    "cursor.execute(sql)"
   ]
  },
  {
   "cell_type": "code",
   "execution_count": 16,
   "metadata": {},
   "outputs": [
    {
     "name": "stdout",
     "output_type": "stream",
     "text": [
      "<mysql.connector.connection.MySQLConnection object at 0x000002638D03DEE0>\n"
     ]
    }
   ],
   "source": [
    "cnx = mysql.connector.connect(host = host, user = user, password = password)\n",
    "\n",
    "print(cnx)\n",
    "cursor = cnx.cursor()\n"
   ]
  },
  {
   "cell_type": "code",
   "execution_count": 50,
   "metadata": {},
   "outputs": [],
   "source": [
    "df = pd.read_excel('D:\\Aemet\\Aemet2014-04-08.xls' ,header = 4 )\n",
    "df['Fecha'] = 'Aemet2014-04-08.xls'\n",
    "df = df.fillna(0)\n",
    "df['Estación'] = df['Estación'].replace(\"'\",\"\")"
   ]
  },
  {
   "cell_type": "code",
   "execution_count": 51,
   "metadata": {},
   "outputs": [
    {
     "data": {
      "text/plain": [
       "Index(['Estación', 'Provincia', 'Temperatura máxima (ºC)',\n",
       "       'Temperatura mínima (ºC)', 'Temperatura media (ºC)', 'Racha (km/h)',\n",
       "       'Velocidad máxima (km/h)', 'Precipitación 00-24h (mm)',\n",
       "       'Precipitación 00-06h (mm)', 'Precipitación 06-12h (mm)',\n",
       "       'Precipitación 12-18h (mm)', 'Precipitación 18-24h (mm)', 'Fecha'],\n",
       "      dtype='object')"
      ]
     },
     "execution_count": 51,
     "metadata": {},
     "output_type": "execute_result"
    }
   ],
   "source": [
    "df.columns"
   ]
  },
  {
   "cell_type": "code",
   "execution_count": 52,
   "metadata": {},
   "outputs": [],
   "source": [
    "df = df.rename(columns = {\n",
    "                            'Estación' : 'Estacion', \n",
    "                            'Provincia' : 'Provincia', \n",
    "                            'Temperatura máxima (ºC)' : 'Temperaturamaxima',\n",
    "                            'Temperatura mínima (ºC)' : 'Temperaturaminima',\n",
    "                            'Temperatura media (ºC)' : 'Temperaturamedia', \n",
    "                            'Racha (km/h)' : 'Racha',\n",
    "                            'Velocidad máxima (km/h)' : 'Velocidadmaxima', \n",
    "                            'Precipitación 00-24h (mm)' : 'Precipitacion0024h',\n",
    "                            'Precipitación 00-06h (mm)' : 'Precipitacion0006h', \n",
    "                            'Precipitación 06-12h (mm)' : 'Precipitacion0612h',\n",
    "                            'Precipitación 12-18h (mm)' : 'Precipitacion1218h', \n",
    "                            'Precipitación 18-24h (mm)' : 'Precipitacion1824h', \n",
    "                            'Fecha' : 'Fecha'\n",
    "                         }, inplace = False)\n"
   ]
  },
  {
   "cell_type": "code",
   "execution_count": 53,
   "metadata": {},
   "outputs": [],
   "source": [
    "engine = create_engine('mysql+mysqlconnector://{user}:{pw}@{host}/{db}'\n",
    "                      .format(user = user,\n",
    "                             pw = password,\n",
    "                             host = host,\n",
    "                             db = db_name)\n",
    "                      )"
   ]
  },
  {
   "cell_type": "code",
   "execution_count": 54,
   "metadata": {},
   "outputs": [
    {
     "data": {
      "text/html": [
       "<div>\n",
       "<style scoped>\n",
       "    .dataframe tbody tr th:only-of-type {\n",
       "        vertical-align: middle;\n",
       "    }\n",
       "\n",
       "    .dataframe tbody tr th {\n",
       "        vertical-align: top;\n",
       "    }\n",
       "\n",
       "    .dataframe thead th {\n",
       "        text-align: right;\n",
       "    }\n",
       "</style>\n",
       "<table border=\"1\" class=\"dataframe\">\n",
       "  <thead>\n",
       "    <tr style=\"text-align: right;\">\n",
       "      <th></th>\n",
       "      <th>Estacion</th>\n",
       "      <th>Provincia</th>\n",
       "      <th>Temperaturamaxima</th>\n",
       "      <th>Temperaturaminima</th>\n",
       "      <th>Temperaturamedia</th>\n",
       "      <th>Racha</th>\n",
       "      <th>Velocidadmaxima</th>\n",
       "      <th>Precipitacion0024h</th>\n",
       "      <th>Precipitacion0006h</th>\n",
       "      <th>Precipitacion0612h</th>\n",
       "      <th>Precipitacion1218h</th>\n",
       "      <th>Precipitacion1824h</th>\n",
       "      <th>Fecha</th>\n",
       "    </tr>\n",
       "  </thead>\n",
       "  <tbody>\n",
       "    <tr>\n",
       "      <th>0</th>\n",
       "      <td>Estaca de Bares</td>\n",
       "      <td>A Coruña</td>\n",
       "      <td>13.7 (12:40)</td>\n",
       "      <td>9.0 (07:10)</td>\n",
       "      <td>11.3</td>\n",
       "      <td>78 (21:00)</td>\n",
       "      <td>48 (23:50)</td>\n",
       "      <td>0.0</td>\n",
       "      <td>0.0</td>\n",
       "      <td>0.0</td>\n",
       "      <td>0.0</td>\n",
       "      <td>0.0</td>\n",
       "      <td>Aemet2014-04-08.xls</td>\n",
       "    </tr>\n",
       "    <tr>\n",
       "      <th>1</th>\n",
       "      <td>As Pontes</td>\n",
       "      <td>A Coruña</td>\n",
       "      <td>15.8 (17:30)</td>\n",
       "      <td>2.7 (08:20)</td>\n",
       "      <td>9.3</td>\n",
       "      <td>0</td>\n",
       "      <td>0</td>\n",
       "      <td>0.0</td>\n",
       "      <td>0.0</td>\n",
       "      <td>0.0</td>\n",
       "      <td>0.0</td>\n",
       "      <td>0.0</td>\n",
       "      <td>Aemet2014-04-08.xls</td>\n",
       "    </tr>\n",
       "    <tr>\n",
       "      <th>2</th>\n",
       "      <td>A Coruña</td>\n",
       "      <td>A Coruña</td>\n",
       "      <td>15.1 (13:40)</td>\n",
       "      <td>8.2 (08:20)</td>\n",
       "      <td>11.7</td>\n",
       "      <td>44 (20:50)</td>\n",
       "      <td>25 (20:10)</td>\n",
       "      <td>0.0</td>\n",
       "      <td>0.0</td>\n",
       "      <td>0.0</td>\n",
       "      <td>0.0</td>\n",
       "      <td>0.0</td>\n",
       "      <td>Aemet2014-04-08.xls</td>\n",
       "    </tr>\n",
       "    <tr>\n",
       "      <th>3</th>\n",
       "      <td>A Coruña Aeropuerto</td>\n",
       "      <td>A Coruña</td>\n",
       "      <td>18.4 (16:10)</td>\n",
       "      <td>5.3 (08:40)</td>\n",
       "      <td>11.8</td>\n",
       "      <td>35 (16:40)</td>\n",
       "      <td>24 (16:40)</td>\n",
       "      <td>0.0</td>\n",
       "      <td>0.0</td>\n",
       "      <td>0.0</td>\n",
       "      <td>0.0</td>\n",
       "      <td>0.0</td>\n",
       "      <td>Aemet2014-04-08.xls</td>\n",
       "    </tr>\n",
       "    <tr>\n",
       "      <th>4</th>\n",
       "      <td>Carballo, Depuradora</td>\n",
       "      <td>A Coruña</td>\n",
       "      <td>15.3 (18:40)</td>\n",
       "      <td>2.5 (08:40)</td>\n",
       "      <td>8.9</td>\n",
       "      <td>0</td>\n",
       "      <td>0</td>\n",
       "      <td>0.0</td>\n",
       "      <td>0.0</td>\n",
       "      <td>0.0</td>\n",
       "      <td>0.0</td>\n",
       "      <td>0.0</td>\n",
       "      <td>Aemet2014-04-08.xls</td>\n",
       "    </tr>\n",
       "    <tr>\n",
       "      <th>...</th>\n",
       "      <td>...</td>\n",
       "      <td>...</td>\n",
       "      <td>...</td>\n",
       "      <td>...</td>\n",
       "      <td>...</td>\n",
       "      <td>...</td>\n",
       "      <td>...</td>\n",
       "      <td>...</td>\n",
       "      <td>...</td>\n",
       "      <td>...</td>\n",
       "      <td>...</td>\n",
       "      <td>...</td>\n",
       "      <td>...</td>\n",
       "    </tr>\n",
       "    <tr>\n",
       "      <th>759</th>\n",
       "      <td>Leciñena</td>\n",
       "      <td>Zaragoza</td>\n",
       "      <td>22.8 (17:20)</td>\n",
       "      <td>9.1 (08:00)</td>\n",
       "      <td>15.9</td>\n",
       "      <td>29 (16:20)</td>\n",
       "      <td>18 (18:30)</td>\n",
       "      <td>0.0</td>\n",
       "      <td>0.0</td>\n",
       "      <td>0.0</td>\n",
       "      <td>0.0</td>\n",
       "      <td>0.0</td>\n",
       "      <td>Aemet2014-04-08.xls</td>\n",
       "    </tr>\n",
       "    <tr>\n",
       "      <th>760</th>\n",
       "      <td>Valmadrid</td>\n",
       "      <td>Zaragoza</td>\n",
       "      <td>20.8 (16:30)</td>\n",
       "      <td>12.0 (06:50)</td>\n",
       "      <td>16.4</td>\n",
       "      <td>44 (14:40)</td>\n",
       "      <td>31 (14:40)</td>\n",
       "      <td>0.0</td>\n",
       "      <td>0.0</td>\n",
       "      <td>0.0</td>\n",
       "      <td>0.0</td>\n",
       "      <td>0.0</td>\n",
       "      <td>Aemet2014-04-08.xls</td>\n",
       "    </tr>\n",
       "    <tr>\n",
       "      <th>761</th>\n",
       "      <td>Quinto</td>\n",
       "      <td>Zaragoza</td>\n",
       "      <td>24.0 (17:30)</td>\n",
       "      <td>12.7 (03:00)</td>\n",
       "      <td>18.3</td>\n",
       "      <td>44 (12:10)</td>\n",
       "      <td>29 (12:10)</td>\n",
       "      <td>0.0</td>\n",
       "      <td>0.0</td>\n",
       "      <td>0.0</td>\n",
       "      <td>0.0</td>\n",
       "      <td>0.0</td>\n",
       "      <td>Aemet2014-04-08.xls</td>\n",
       "    </tr>\n",
       "    <tr>\n",
       "      <th>762</th>\n",
       "      <td>Caspe</td>\n",
       "      <td>Zaragoza</td>\n",
       "      <td>25.5 (18:00)</td>\n",
       "      <td>12.4 (04:50)</td>\n",
       "      <td>18.9</td>\n",
       "      <td>0</td>\n",
       "      <td>0</td>\n",
       "      <td>0.0</td>\n",
       "      <td>0.0</td>\n",
       "      <td>0.0</td>\n",
       "      <td>0.0</td>\n",
       "      <td>0.0</td>\n",
       "      <td>Aemet2014-04-08.xls</td>\n",
       "    </tr>\n",
       "    <tr>\n",
       "      <th>763</th>\n",
       "      <td>Bujaraloz</td>\n",
       "      <td>Zaragoza</td>\n",
       "      <td>24.6 (17:10)</td>\n",
       "      <td>10.2 (07:50)</td>\n",
       "      <td>17.4</td>\n",
       "      <td>41 (23:00)</td>\n",
       "      <td>30 (23:00)</td>\n",
       "      <td>0.0</td>\n",
       "      <td>0.0</td>\n",
       "      <td>0.0</td>\n",
       "      <td>0.0</td>\n",
       "      <td>0.0</td>\n",
       "      <td>Aemet2014-04-08.xls</td>\n",
       "    </tr>\n",
       "  </tbody>\n",
       "</table>\n",
       "<p>764 rows × 13 columns</p>\n",
       "</div>"
      ],
      "text/plain": [
       "                 Estacion Provincia Temperaturamaxima Temperaturaminima  \\\n",
       "0         Estaca de Bares  A Coruña      13.7 (12:40)       9.0 (07:10)   \n",
       "1               As Pontes  A Coruña      15.8 (17:30)       2.7 (08:20)   \n",
       "2                A Coruña  A Coruña      15.1 (13:40)       8.2 (08:20)   \n",
       "3     A Coruña Aeropuerto  A Coruña      18.4 (16:10)       5.3 (08:40)   \n",
       "4    Carballo, Depuradora  A Coruña      15.3 (18:40)       2.5 (08:40)   \n",
       "..                    ...       ...               ...               ...   \n",
       "759              Leciñena  Zaragoza      22.8 (17:20)       9.1 (08:00)   \n",
       "760             Valmadrid  Zaragoza      20.8 (16:30)      12.0 (06:50)   \n",
       "761                Quinto  Zaragoza      24.0 (17:30)      12.7 (03:00)   \n",
       "762                 Caspe  Zaragoza      25.5 (18:00)      12.4 (04:50)   \n",
       "763             Bujaraloz  Zaragoza      24.6 (17:10)      10.2 (07:50)   \n",
       "\n",
       "     Temperaturamedia       Racha Velocidadmaxima  Precipitacion0024h  \\\n",
       "0                11.3  78 (21:00)      48 (23:50)                 0.0   \n",
       "1                 9.3           0               0                 0.0   \n",
       "2                11.7  44 (20:50)      25 (20:10)                 0.0   \n",
       "3                11.8  35 (16:40)      24 (16:40)                 0.0   \n",
       "4                 8.9           0               0                 0.0   \n",
       "..                ...         ...             ...                 ...   \n",
       "759              15.9  29 (16:20)      18 (18:30)                 0.0   \n",
       "760              16.4  44 (14:40)      31 (14:40)                 0.0   \n",
       "761              18.3  44 (12:10)      29 (12:10)                 0.0   \n",
       "762              18.9           0               0                 0.0   \n",
       "763              17.4  41 (23:00)      30 (23:00)                 0.0   \n",
       "\n",
       "     Precipitacion0006h  Precipitacion0612h  Precipitacion1218h  \\\n",
       "0                   0.0                 0.0                 0.0   \n",
       "1                   0.0                 0.0                 0.0   \n",
       "2                   0.0                 0.0                 0.0   \n",
       "3                   0.0                 0.0                 0.0   \n",
       "4                   0.0                 0.0                 0.0   \n",
       "..                  ...                 ...                 ...   \n",
       "759                 0.0                 0.0                 0.0   \n",
       "760                 0.0                 0.0                 0.0   \n",
       "761                 0.0                 0.0                 0.0   \n",
       "762                 0.0                 0.0                 0.0   \n",
       "763                 0.0                 0.0                 0.0   \n",
       "\n",
       "     Precipitacion1824h                Fecha  \n",
       "0                   0.0  Aemet2014-04-08.xls  \n",
       "1                   0.0  Aemet2014-04-08.xls  \n",
       "2                   0.0  Aemet2014-04-08.xls  \n",
       "3                   0.0  Aemet2014-04-08.xls  \n",
       "4                   0.0  Aemet2014-04-08.xls  \n",
       "..                  ...                  ...  \n",
       "759                 0.0  Aemet2014-04-08.xls  \n",
       "760                 0.0  Aemet2014-04-08.xls  \n",
       "761                 0.0  Aemet2014-04-08.xls  \n",
       "762                 0.0  Aemet2014-04-08.xls  \n",
       "763                 0.0  Aemet2014-04-08.xls  \n",
       "\n",
       "[764 rows x 13 columns]"
      ]
     },
     "execution_count": 54,
     "metadata": {},
     "output_type": "execute_result"
    }
   ],
   "source": [
    "df"
   ]
  },
  {
   "cell_type": "code",
   "execution_count": 43,
   "metadata": {},
   "outputs": [
    {
     "ename": "AttributeError",
     "evalue": "'NoneType' object has no attribute 'reset_index'",
     "output_type": "error",
     "traceback": [
      "\u001b[1;31m---------------------------------------------------------------------------\u001b[0m",
      "\u001b[1;31mAttributeError\u001b[0m                            Traceback (most recent call last)",
      "\u001b[1;32m<ipython-input-43-7c3a06281524>\u001b[0m in \u001b[0;36m<module>\u001b[1;34m\u001b[0m\n\u001b[1;32m----> 1\u001b[1;33m \u001b[0mdf\u001b[0m \u001b[1;33m=\u001b[0m \u001b[0mdf\u001b[0m\u001b[1;33m.\u001b[0m\u001b[0mreset_index\u001b[0m\u001b[1;33m(\u001b[0m\u001b[0mdrop\u001b[0m\u001b[1;33m=\u001b[0m\u001b[1;32mTrue\u001b[0m\u001b[1;33m,\u001b[0m \u001b[0minplace\u001b[0m\u001b[1;33m=\u001b[0m\u001b[1;32mTrue\u001b[0m\u001b[1;33m)\u001b[0m\u001b[1;33m\u001b[0m\u001b[1;33m\u001b[0m\u001b[0m\n\u001b[0m\u001b[0;32m      2\u001b[0m \u001b[0mprint\u001b[0m \u001b[1;33m(\u001b[0m\u001b[0mdf\u001b[0m\u001b[1;33m)\u001b[0m\u001b[1;33m\u001b[0m\u001b[1;33m\u001b[0m\u001b[0m\n",
      "\u001b[1;31mAttributeError\u001b[0m: 'NoneType' object has no attribute 'reset_index'"
     ]
    }
   ],
   "source": [
    "df = df.reset_index(drop=True, inplace=True)\n"
   ]
  },
  {
   "cell_type": "code",
   "execution_count": 56,
   "metadata": {},
   "outputs": [],
   "source": [
    "df.to_sql('datosaemet', con = engine, if_exists='append',index=False)"
   ]
  },
  {
   "cell_type": "code",
   "execution_count": 2,
   "metadata": {},
   "outputs": [
    {
     "ename": "NameError",
     "evalue": "name 'listdir' is not defined",
     "output_type": "error",
     "traceback": [
      "\u001b[1;31m---------------------------------------------------------------------------\u001b[0m",
      "\u001b[1;31mNameError\u001b[0m                                 Traceback (most recent call last)",
      "\u001b[1;32m<ipython-input-2-d5dc25ed038b>\u001b[0m in \u001b[0;36m<module>\u001b[1;34m\u001b[0m\n\u001b[1;32m----> 1\u001b[1;33m \u001b[0monlyfiles\u001b[0m \u001b[1;33m=\u001b[0m \u001b[1;33m[\u001b[0m\u001b[0mf\u001b[0m \u001b[1;32mfor\u001b[0m \u001b[0mf\u001b[0m \u001b[1;32min\u001b[0m \u001b[0mlistdir\u001b[0m\u001b[1;33m(\u001b[0m\u001b[1;34m'D:\\Aemet'\u001b[0m\u001b[1;33m)\u001b[0m \u001b[1;32mif\u001b[0m \u001b[0misfile\u001b[0m\u001b[1;33m(\u001b[0m\u001b[0mjoin\u001b[0m\u001b[1;33m(\u001b[0m\u001b[1;34m'D:\\Aemet'\u001b[0m\u001b[1;33m,\u001b[0m \u001b[0mf\u001b[0m\u001b[1;33m)\u001b[0m\u001b[1;33m)\u001b[0m\u001b[1;33m]\u001b[0m\u001b[1;33m\u001b[0m\u001b[1;33m\u001b[0m\u001b[0m\n\u001b[0m",
      "\u001b[1;31mNameError\u001b[0m: name 'listdir' is not defined"
     ]
    }
   ],
   "source": [
    "onlyfiles = [f for f in listdir('D:\\Aemet') if isfile(join('D:\\Aemet', f))]"
   ]
  },
  {
   "cell_type": "code",
   "execution_count": 1,
   "metadata": {},
   "outputs": [
    {
     "ename": "NameError",
     "evalue": "name 'onlyfiles' is not defined",
     "output_type": "error",
     "traceback": [
      "\u001b[1;31m---------------------------------------------------------------------------\u001b[0m",
      "\u001b[1;31mNameError\u001b[0m                                 Traceback (most recent call last)",
      "\u001b[1;32m<ipython-input-1-797df15d638c>\u001b[0m in \u001b[0;36m<module>\u001b[1;34m\u001b[0m\n\u001b[1;32m----> 1\u001b[1;33m \u001b[1;32mfor\u001b[0m \u001b[0ma\u001b[0m \u001b[1;32min\u001b[0m \u001b[0monlyfiles\u001b[0m\u001b[1;33m:\u001b[0m\u001b[1;33m\u001b[0m\u001b[1;33m\u001b[0m\u001b[0m\n\u001b[0m\u001b[0;32m      2\u001b[0m     \u001b[0mdf\u001b[0m \u001b[1;33m=\u001b[0m \u001b[0mpd\u001b[0m\u001b[1;33m.\u001b[0m\u001b[0mread_excel\u001b[0m\u001b[1;33m(\u001b[0m\u001b[1;34m'D:\\Aemet\\%s'\u001b[0m \u001b[1;33m%\u001b[0m\u001b[1;33m(\u001b[0m\u001b[0ma\u001b[0m\u001b[1;33m)\u001b[0m\u001b[1;33m,\u001b[0m\u001b[0mheader\u001b[0m \u001b[1;33m=\u001b[0m \u001b[1;36m4\u001b[0m \u001b[1;33m)\u001b[0m\u001b[1;33m\u001b[0m\u001b[1;33m\u001b[0m\u001b[0m\n\u001b[0;32m      3\u001b[0m     \u001b[0mdf\u001b[0m \u001b[1;33m=\u001b[0m \u001b[0mdf\u001b[0m\u001b[1;33m.\u001b[0m\u001b[0mfillna\u001b[0m\u001b[1;33m(\u001b[0m\u001b[1;34m'0'\u001b[0m\u001b[1;33m)\u001b[0m\u001b[1;33m\u001b[0m\u001b[1;33m\u001b[0m\u001b[0m\n\u001b[0;32m      4\u001b[0m     \u001b[0mdf\u001b[0m\u001b[1;33m[\u001b[0m\u001b[1;34m'Estación'\u001b[0m\u001b[1;33m]\u001b[0m \u001b[1;33m=\u001b[0m \u001b[0mdf\u001b[0m\u001b[1;33m[\u001b[0m\u001b[1;34m'Estación'\u001b[0m\u001b[1;33m]\u001b[0m\u001b[1;33m.\u001b[0m\u001b[0mreplace\u001b[0m\u001b[1;33m(\u001b[0m\u001b[1;34m\"'\"\u001b[0m\u001b[1;33m,\u001b[0m\u001b[1;34m\"\"\u001b[0m\u001b[1;33m)\u001b[0m\u001b[1;33m\u001b[0m\u001b[1;33m\u001b[0m\u001b[0m\n\u001b[0;32m      5\u001b[0m     \u001b[0mdf\u001b[0m\u001b[1;33m[\u001b[0m\u001b[1;34m'Fecha'\u001b[0m\u001b[1;33m]\u001b[0m \u001b[1;33m=\u001b[0m \u001b[0ma\u001b[0m\u001b[1;33m\u001b[0m\u001b[1;33m\u001b[0m\u001b[0m\n",
      "\u001b[1;31mNameError\u001b[0m: name 'onlyfiles' is not defined"
     ]
    }
   ],
   "source": [
    "for a in onlyfiles:\n",
    "    df = pd.read_excel('D:\\Aemet\\%s' %(a),header = 4 )\n",
    "    df = df.fillna('0')\n",
    "    df['Estación'] = df['Estación'].replace(\"'\",\"\")\n",
    "    df['Fecha'] = a\n",
    "    df = df.rename(columns = {\n",
    "                            'Estación' : 'Estacion', \n",
    "                            'Provincia' : 'Provincia', \n",
    "                            'Temperatura máxima (ºC)' : 'Temperaturamaxima',\n",
    "                            'Temperatura mínima (ºC)' : 'Temperaturaminima',\n",
    "                            'Temperatura media (ºC)' : 'Temperaturamedia', \n",
    "                            'Racha (km/h)' : 'Racha',\n",
    "                            'Velocidad máxima (km/h)' : 'Velocidadmaxima', \n",
    "                            'Precipitación 00-24h (mm)' : 'Precipitacion0024h',\n",
    "                            'Precipitación 00-06h (mm)' : 'Precipitacion0006h', \n",
    "                            'Precipitación 06-12h (mm)' : 'Precipitacion0612h',\n",
    "                            'Precipitación 12-18h (mm)' : 'Precipitacion1218h', \n",
    "                            'Precipitación 18-24h (mm)' : 'Precipitacion1824h', \n",
    "                            'Fecha' : 'Fecha'\n",
    "                         }, inplace = False)\n",
    "    df.to_sql('datosaemet', con = engine, if_exists='append',index=False)\n",
    "    print(a)\n",
    "    os.replace('D:\\Aemet\\%s' %(a), 'D:\\Aemet\\Archivo\\%s' %(a))"
   ]
  },
  {
   "cell_type": "code",
   "execution_count": 57,
   "metadata": {},
   "outputs": [
    {
     "ename": "NameError",
     "evalue": "name 'onlyfiles' is not defined",
     "output_type": "error",
     "traceback": [
      "\u001b[1;31m---------------------------------------------------------------------------\u001b[0m",
      "\u001b[1;31mNameError\u001b[0m                                 Traceback (most recent call last)",
      "\u001b[1;32m<ipython-input-57-4d2503affc43>\u001b[0m in \u001b[0;36m<module>\u001b[1;34m\u001b[0m\n\u001b[1;32m----> 1\u001b[1;33m \u001b[1;32mfor\u001b[0m \u001b[0ma\u001b[0m \u001b[1;32min\u001b[0m \u001b[0monlyfiles\u001b[0m\u001b[1;33m:\u001b[0m\u001b[1;33m\u001b[0m\u001b[1;33m\u001b[0m\u001b[0m\n\u001b[0m\u001b[0;32m      2\u001b[0m     \u001b[0mdf\u001b[0m \u001b[1;33m=\u001b[0m \u001b[0mpd\u001b[0m\u001b[1;33m.\u001b[0m\u001b[0mread_excel\u001b[0m\u001b[1;33m(\u001b[0m\u001b[1;34m'D:\\Aemet\\%s'\u001b[0m \u001b[1;33m%\u001b[0m\u001b[1;33m(\u001b[0m\u001b[0ma\u001b[0m\u001b[1;33m)\u001b[0m\u001b[1;33m,\u001b[0m\u001b[0mheader\u001b[0m \u001b[1;33m=\u001b[0m \u001b[1;36m4\u001b[0m \u001b[1;33m)\u001b[0m\u001b[1;33m\u001b[0m\u001b[1;33m\u001b[0m\u001b[0m\n\u001b[0;32m      3\u001b[0m     \u001b[0mdf1\u001b[0m \u001b[1;33m=\u001b[0m \u001b[0mdf\u001b[0m\u001b[1;33m.\u001b[0m\u001b[0mfillna\u001b[0m\u001b[1;33m(\u001b[0m\u001b[1;34m'0'\u001b[0m\u001b[1;33m)\u001b[0m\u001b[1;33m\u001b[0m\u001b[1;33m\u001b[0m\u001b[0m\n\u001b[0;32m      4\u001b[0m     \u001b[0mdf1\u001b[0m\u001b[1;33m[\u001b[0m\u001b[1;34m'Fecha'\u001b[0m\u001b[1;33m]\u001b[0m \u001b[1;33m=\u001b[0m \u001b[0ma\u001b[0m\u001b[1;33m\u001b[0m\u001b[1;33m\u001b[0m\u001b[0m\n\u001b[0;32m      5\u001b[0m     \u001b[1;32mfor\u001b[0m \u001b[0mi\u001b[0m \u001b[1;32min\u001b[0m \u001b[0mrange\u001b[0m\u001b[1;33m(\u001b[0m\u001b[0mlen\u001b[0m\u001b[1;33m(\u001b[0m\u001b[0mdf1\u001b[0m\u001b[1;33m)\u001b[0m\u001b[1;33m)\u001b[0m\u001b[1;33m:\u001b[0m\u001b[1;33m\u001b[0m\u001b[1;33m\u001b[0m\u001b[0m\n",
      "\u001b[1;31mNameError\u001b[0m: name 'onlyfiles' is not defined"
     ]
    }
   ],
   "source": [
    "# for a in onlyfiles:\n",
    "#     df = pd.read_excel('D:\\Aemet\\%s' %(a),header = 4 )\n",
    "#     df1 = df.fillna('0')\n",
    "#     df1['Fecha'] = a\n",
    "#     for i in range(len(df1)):\n",
    "#         sql = '''\n",
    "#         insert into DatosAemet (\n",
    "#         Estacion , \n",
    "#         Provincia , \n",
    "#         Temperaturamaxima ,\n",
    "#         Temperaturaminima , \n",
    "#         Temperaturamedia , \n",
    "#         Racha ,\n",
    "#         Velocidadmaxima , \n",
    "#         Precipitacion0024h ,\n",
    "#         Precipitacion0006h, \n",
    "#         Precipitacion0612h ,\n",
    "#         Precipitacion1218h ,\n",
    "#         Precipitacion1824h,\n",
    "#         Fecha)\n",
    "#         values (\n",
    "#         '%s',\n",
    "#         '%s',\n",
    "#         '%s',\n",
    "#         '%s',\n",
    "#         '%s',\n",
    "#         '%s',\n",
    "#         '%s',\n",
    "#         '%s',\n",
    "#         '%s',\n",
    "#         '%s',\n",
    "#         '%s',\n",
    "#         '%s',\n",
    "#         '%s'\n",
    "#         )\n",
    "#         ''' %(\n",
    "#         df1['Estación'].iloc[i].replace(\"'\",\"\"),\n",
    "#         df1['Provincia'].iloc[i],\n",
    "#         df1['Temperatura máxima (ºC)'].iloc[i],\n",
    "#         df1['Temperatura mínima (ºC)'].iloc[i],\n",
    "#         df1['Temperatura media (ºC)'].iloc[i],\n",
    "#         df1['Racha (km/h)'].iloc[i],\n",
    "#         df1['Velocidad máxima (km/h)'].iloc[i],\n",
    "#         df1['Precipitación 00-24h (mm)'].iloc[i],\n",
    "#         df1['Precipitación 00-06h (mm)'].iloc[i],\n",
    "#         df1['Precipitación 06-12h (mm)'].iloc[i],\n",
    "#         df1['Precipitación 12-18h (mm)'].iloc[i],\n",
    "#         df1['Precipitación 18-24h (mm)'].iloc[i],\n",
    "#         df1['Fecha'].iloc[i]\n",
    "#         )\n",
    "#         cursor.execute(sql)\n",
    "#         cursor.connection.commit()\n",
    "#     print(a)\n",
    "#     os.replace('D:\\Aemet\\%s' %(a), 'D:\\Aemet\\Archivo\\%s' %(a))\n",
    "\n"
   ]
  }
 ],
 "metadata": {
  "kernelspec": {
   "display_name": "Python 3",
   "language": "python",
   "name": "python3"
  },
  "language_info": {
   "codemirror_mode": {
    "name": "ipython",
    "version": 3
   },
   "file_extension": ".py",
   "mimetype": "text/x-python",
   "name": "python",
   "nbconvert_exporter": "python",
   "pygments_lexer": "ipython3",
   "version": "3.8.5"
  }
 },
 "nbformat": 4,
 "nbformat_minor": 4
}
