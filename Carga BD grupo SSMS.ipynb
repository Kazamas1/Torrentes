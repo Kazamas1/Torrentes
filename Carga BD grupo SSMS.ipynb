{
 "cells": [
  {
   "cell_type": "code",
   "execution_count": 34,
   "metadata": {},
   "outputs": [],
   "source": [
    "import pandas as pd\n",
    "import pyodbc\n",
    "from sqlalchemy import create_engine\n",
    "import mysql.connector\n",
    "from os import listdir\n",
    "from os.path import isfile, join"
   ]
  },
  {
   "cell_type": "code",
   "execution_count": 2,
   "metadata": {},
   "outputs": [
    {
     "ename": "NameError",
     "evalue": "name 'pymysql' is not defined",
     "output_type": "error",
     "traceback": [
      "\u001b[1;31m---------------------------------------------------------------------------\u001b[0m",
      "\u001b[1;31mNameError\u001b[0m                                 Traceback (most recent call last)",
      "\u001b[1;32m<ipython-input-2-43177aac8faa>\u001b[0m in \u001b[0;36m<module>\u001b[1;34m\u001b[0m\n\u001b[1;32m----> 1\u001b[1;33m \u001b[0mdb\u001b[0m \u001b[1;33m=\u001b[0m \u001b[0mpymysql\u001b[0m\u001b[1;33m.\u001b[0m\u001b[0mconnect\u001b[0m\u001b[1;33m(\u001b[0m\u001b[0mhost\u001b[0m \u001b[1;33m=\u001b[0m \u001b[1;34m'database-test2.colignxg6rlu.eu-central-1.rds.amazonaws.com'\u001b[0m\u001b[1;33m,\u001b[0m \u001b[0muser\u001b[0m \u001b[1;33m=\u001b[0m \u001b[1;34m'admin'\u001b[0m\u001b[1;33m,\u001b[0m \u001b[0mpassword\u001b[0m \u001b[1;33m=\u001b[0m \u001b[1;34m'Ventana21'\u001b[0m\u001b[1;33m)\u001b[0m\u001b[1;33m\u001b[0m\u001b[1;33m\u001b[0m\u001b[0m\n\u001b[0m\u001b[0;32m      2\u001b[0m \u001b[0mcursor\u001b[0m \u001b[1;33m=\u001b[0m \u001b[0mdb\u001b[0m\u001b[1;33m.\u001b[0m\u001b[0mcursor\u001b[0m\u001b[1;33m(\u001b[0m\u001b[1;33m)\u001b[0m\u001b[1;33m\u001b[0m\u001b[1;33m\u001b[0m\u001b[0m\n",
      "\u001b[1;31mNameError\u001b[0m: name 'pymysql' is not defined"
     ]
    }
   ],
   "source": [
    "db = pymysql.connect(host = 'database-test2.colignxg6rlu.eu-central-1.rds.amazonaws.com', user = 'admin', password = 'Ventana21')\n",
    "cursor = db.cursor()\n"
   ]
  },
  {
   "cell_type": "code",
   "execution_count": 3,
   "metadata": {},
   "outputs": [],
   "source": [
    "host = 'DESKTOP-MDJ71SC'\n",
    "db_name = 'Torrentes'"
   ]
  },
  {
   "cell_type": "code",
   "execution_count": 4,
   "metadata": {},
   "outputs": [
    {
     "ename": "NameError",
     "evalue": "name 'cursor' is not defined",
     "output_type": "error",
     "traceback": [
      "\u001b[1;31m---------------------------------------------------------------------------\u001b[0m",
      "\u001b[1;31mNameError\u001b[0m                                 Traceback (most recent call last)",
      "\u001b[1;32m<ipython-input-4-002b82e885e0>\u001b[0m in \u001b[0;36m<module>\u001b[1;34m\u001b[0m\n\u001b[0;32m      1\u001b[0m \u001b[0msql\u001b[0m \u001b[1;33m=\u001b[0m \u001b[1;34m'''use Torrentes'''\u001b[0m\u001b[1;33m\u001b[0m\u001b[1;33m\u001b[0m\u001b[0m\n\u001b[1;32m----> 2\u001b[1;33m \u001b[0mcursor\u001b[0m\u001b[1;33m.\u001b[0m\u001b[0mexecute\u001b[0m\u001b[1;33m(\u001b[0m\u001b[0msql\u001b[0m\u001b[1;33m)\u001b[0m\u001b[1;33m\u001b[0m\u001b[1;33m\u001b[0m\u001b[0m\n\u001b[0m",
      "\u001b[1;31mNameError\u001b[0m: name 'cursor' is not defined"
     ]
    }
   ],
   "source": [
    "sql = '''use Torrentes'''\n",
    "cursor.execute(sql)"
   ]
  },
  {
   "cell_type": "code",
   "execution_count": 5,
   "metadata": {},
   "outputs": [
    {
     "name": "stdout",
     "output_type": "stream",
     "text": [
      "<pyodbc.Connection object at 0x000002506E8DD030>\n"
     ]
    }
   ],
   "source": [
    "conn = pyodbc.connect( 'DRIVER={SQL SERVER};SERVER=DESKTOP-MDJ71SC;DATABASE=Torrentes;Trust_Connection=yes')\n",
    "print(conn)\n",
    "cursor = conn.cursor()\n"
   ]
  },
  {
   "cell_type": "code",
   "execution_count": 6,
   "metadata": {},
   "outputs": [],
   "source": [
    "df = pd.read_excel('D:\\Aemet\\Aemet2014-04-08.xls' ,header = 4 )\n",
    "df['Fecha'] = 'Aemet2014-04-08.xls'\n",
    "df = df.fillna(0)\n",
    "df['Estación'] = df['Estación'].replace(\"'\",\"\")"
   ]
  },
  {
   "cell_type": "code",
   "execution_count": 7,
   "metadata": {},
   "outputs": [
    {
     "data": {
      "text/plain": [
       "Index(['Estación', 'Provincia', 'Temperatura máxima (ºC)',\n",
       "       'Temperatura mínima (ºC)', 'Temperatura media (ºC)', 'Racha (km/h)',\n",
       "       'Velocidad máxima (km/h)', 'Precipitación 00-24h (mm)',\n",
       "       'Precipitación 00-06h (mm)', 'Precipitación 06-12h (mm)',\n",
       "       'Precipitación 12-18h (mm)', 'Precipitación 18-24h (mm)', 'Fecha'],\n",
       "      dtype='object')"
      ]
     },
     "execution_count": 7,
     "metadata": {},
     "output_type": "execute_result"
    }
   ],
   "source": [
    "df.columns"
   ]
  },
  {
   "cell_type": "code",
   "execution_count": 8,
   "metadata": {},
   "outputs": [],
   "source": [
    "df = df.rename(columns = {\n",
    "                            'Estación' : 'Estacion', \n",
    "                            'Provincia' : 'Provincia', \n",
    "                            'Temperatura máxima (ºC)' : 'Temperaturamaxima',\n",
    "                            'Temperatura mínima (ºC)' : 'Temperaturaminima',\n",
    "                            'Temperatura media (ºC)' : 'Temperaturamedia', \n",
    "                            'Racha (km/h)' : 'Racha',\n",
    "                            'Velocidad máxima (km/h)' : 'Velocidadmaxima', \n",
    "                            'Precipitación 00-24h (mm)' : 'Precipitacion0024h',\n",
    "                            'Precipitación 00-06h (mm)' : 'Precipitacion0006h', \n",
    "                            'Precipitación 06-12h (mm)' : 'Precipitacion0612h',\n",
    "                            'Precipitación 12-18h (mm)' : 'Precipitacion1218h', \n",
    "                            'Precipitación 18-24h (mm)' : 'Precipitacion1824h', \n",
    "                            'Fecha' : 'Fecha'\n",
    "                         }, inplace = False)\n"
   ]
  },
  {
   "cell_type": "code",
   "execution_count": 30,
   "metadata": {},
   "outputs": [],
   "source": [
    "engine = create_engine('mssql+pyodbc://DESKTOP-MDJ71SC/Torrentes?driver=ODBC+Driver+17+for+SQL+Server')"
   ]
  },
  {
   "cell_type": "code",
   "execution_count": 31,
   "metadata": {},
   "outputs": [
    {
     "name": "stdout",
     "output_type": "stream",
     "text": [
      "Engine(mssql+pyodbc://DESKTOP-MDJ71SC/Torrentes?driver=ODBC+Driver+17+for+SQL+Server)\n"
     ]
    }
   ],
   "source": [
    "print (engine)"
   ]
  },
  {
   "cell_type": "code",
   "execution_count": 43,
   "metadata": {},
   "outputs": [
    {
     "ename": "AttributeError",
     "evalue": "'NoneType' object has no attribute 'reset_index'",
     "output_type": "error",
     "traceback": [
      "\u001b[1;31m---------------------------------------------------------------------------\u001b[0m",
      "\u001b[1;31mAttributeError\u001b[0m                            Traceback (most recent call last)",
      "\u001b[1;32m<ipython-input-43-7c3a06281524>\u001b[0m in \u001b[0;36m<module>\u001b[1;34m\u001b[0m\n\u001b[1;32m----> 1\u001b[1;33m \u001b[0mdf\u001b[0m \u001b[1;33m=\u001b[0m \u001b[0mdf\u001b[0m\u001b[1;33m.\u001b[0m\u001b[0mreset_index\u001b[0m\u001b[1;33m(\u001b[0m\u001b[0mdrop\u001b[0m\u001b[1;33m=\u001b[0m\u001b[1;32mTrue\u001b[0m\u001b[1;33m,\u001b[0m \u001b[0minplace\u001b[0m\u001b[1;33m=\u001b[0m\u001b[1;32mTrue\u001b[0m\u001b[1;33m)\u001b[0m\u001b[1;33m\u001b[0m\u001b[1;33m\u001b[0m\u001b[0m\n\u001b[0m\u001b[0;32m      2\u001b[0m \u001b[0mprint\u001b[0m \u001b[1;33m(\u001b[0m\u001b[0mdf\u001b[0m\u001b[1;33m)\u001b[0m\u001b[1;33m\u001b[0m\u001b[1;33m\u001b[0m\u001b[0m\n",
      "\u001b[1;31mAttributeError\u001b[0m: 'NoneType' object has no attribute 'reset_index'"
     ]
    }
   ],
   "source": [
    "df = df.reset_index(drop=True, inplace=True)\n"
   ]
  },
  {
   "cell_type": "code",
   "execution_count": 14,
   "metadata": {},
   "outputs": [
    {
     "data": {
      "text/plain": [
       "<pyodbc.Cursor at 0x2506e8da1b0>"
      ]
     },
     "execution_count": 14,
     "metadata": {},
     "output_type": "execute_result"
    }
   ],
   "source": [
    "sql = '''\n",
    "Create table DatosAemet(\n",
    "Estacion varchar (255), \n",
    "Provincia varchar (255), \n",
    "Temperaturamaxima varchar (255),\n",
    "Temperaturaminima varchar (255), \n",
    "Temperaturamedia varchar (255), \n",
    "Racha varchar (255),\n",
    "Velocidadmaxima varchar (255), \n",
    "Precipitacion0024h varchar (255),\n",
    "Precipitacion0006h varchar (255), \n",
    "Precipitacion0612h varchar (255),\n",
    "Precipitacion1218h varchar (255), \n",
    "Precipitacion1824h varchar (255)\n",
    ")\n",
    "\n",
    "'''\n",
    "cursor.execute(sql)"
   ]
  },
  {
   "cell_type": "code",
   "execution_count": 15,
   "metadata": {},
   "outputs": [],
   "source": [
    "cursor.commit()"
   ]
  },
  {
   "cell_type": "code",
   "execution_count": null,
   "metadata": {},
   "outputs": [],
   "source": []
  },
  {
   "cell_type": "code",
   "execution_count": null,
   "metadata": {},
   "outputs": [],
   "source": []
  },
  {
   "cell_type": "code",
   "execution_count": 35,
   "metadata": {},
   "outputs": [],
   "source": [
    "df.to_sql('datosaemet', con = engine, if_exists='append',index=False)"
   ]
  },
  {
   "cell_type": "code",
   "execution_count": 36,
   "metadata": {},
   "outputs": [],
   "source": [
    "onlyfiles = [f for f in listdir('D:\\Aemet') if isfile(join('D:\\Aemet', f))]"
   ]
  },
  {
   "cell_type": "code",
   "execution_count": 37,
   "metadata": {
    "scrolled": false
   },
   "outputs": [
    {
     "name": "stdout",
     "output_type": "stream",
     "text": [
      "Aemet2013-05-07.xls\n"
     ]
    },
    {
     "ename": "NameError",
     "evalue": "name 'os' is not defined",
     "output_type": "error",
     "traceback": [
      "\u001b[1;31m---------------------------------------------------------------------------\u001b[0m",
      "\u001b[1;31mNameError\u001b[0m                                 Traceback (most recent call last)",
      "\u001b[1;32m<ipython-input-37-797df15d638c>\u001b[0m in \u001b[0;36m<module>\u001b[1;34m\u001b[0m\n\u001b[0;32m     21\u001b[0m     \u001b[0mdf\u001b[0m\u001b[1;33m.\u001b[0m\u001b[0mto_sql\u001b[0m\u001b[1;33m(\u001b[0m\u001b[1;34m'datosaemet'\u001b[0m\u001b[1;33m,\u001b[0m \u001b[0mcon\u001b[0m \u001b[1;33m=\u001b[0m \u001b[0mengine\u001b[0m\u001b[1;33m,\u001b[0m \u001b[0mif_exists\u001b[0m\u001b[1;33m=\u001b[0m\u001b[1;34m'append'\u001b[0m\u001b[1;33m,\u001b[0m\u001b[0mindex\u001b[0m\u001b[1;33m=\u001b[0m\u001b[1;32mFalse\u001b[0m\u001b[1;33m)\u001b[0m\u001b[1;33m\u001b[0m\u001b[1;33m\u001b[0m\u001b[0m\n\u001b[0;32m     22\u001b[0m     \u001b[0mprint\u001b[0m\u001b[1;33m(\u001b[0m\u001b[0ma\u001b[0m\u001b[1;33m)\u001b[0m\u001b[1;33m\u001b[0m\u001b[1;33m\u001b[0m\u001b[0m\n\u001b[1;32m---> 23\u001b[1;33m     \u001b[0mos\u001b[0m\u001b[1;33m.\u001b[0m\u001b[0mreplace\u001b[0m\u001b[1;33m(\u001b[0m\u001b[1;34m'D:\\Aemet\\%s'\u001b[0m \u001b[1;33m%\u001b[0m\u001b[1;33m(\u001b[0m\u001b[0ma\u001b[0m\u001b[1;33m)\u001b[0m\u001b[1;33m,\u001b[0m \u001b[1;34m'D:\\Aemet\\Archivo\\%s'\u001b[0m \u001b[1;33m%\u001b[0m\u001b[1;33m(\u001b[0m\u001b[0ma\u001b[0m\u001b[1;33m)\u001b[0m\u001b[1;33m)\u001b[0m\u001b[1;33m\u001b[0m\u001b[1;33m\u001b[0m\u001b[0m\n\u001b[0m",
      "\u001b[1;31mNameError\u001b[0m: name 'os' is not defined"
     ]
    }
   ],
   "source": [
    "for a in onlyfiles:\n",
    "    df = pd.read_excel('D:\\Aemet\\%s' %(a),header = 4 )\n",
    "    df = df.fillna('0')\n",
    "    df['Estación'] = df['Estación'].replace(\"'\",\"\")\n",
    "    df['Fecha'] = a\n",
    "    df = df.rename(columns = {\n",
    "                            'Estación' : 'Estacion', \n",
    "                            'Provincia' : 'Provincia', \n",
    "                            'Temperatura máxima (ºC)' : 'Temperaturamaxima',\n",
    "                            'Temperatura mínima (ºC)' : 'Temperaturaminima',\n",
    "                            'Temperatura media (ºC)' : 'Temperaturamedia', \n",
    "                            'Racha (km/h)' : 'Racha',\n",
    "                            'Velocidad máxima (km/h)' : 'Velocidadmaxima', \n",
    "                            'Precipitación 00-24h (mm)' : 'Precipitacion0024h',\n",
    "                            'Precipitación 00-06h (mm)' : 'Precipitacion0006h', \n",
    "                            'Precipitación 06-12h (mm)' : 'Precipitacion0612h',\n",
    "                            'Precipitación 12-18h (mm)' : 'Precipitacion1218h', \n",
    "                            'Precipitación 18-24h (mm)' : 'Precipitacion1824h', \n",
    "                            'Fecha' : 'Fecha'\n",
    "                         }, inplace = False)\n",
    "    df.to_sql('datosaemet', con = engine, if_exists='append',index=False)\n",
    "    print(a)\n",
    "    os.replace('D:\\Aemet\\%s' %(a), 'D:\\Aemet\\Archivo\\%s' %(a))"
   ]
  },
  {
   "cell_type": "code",
   "execution_count": 57,
   "metadata": {},
   "outputs": [
    {
     "ename": "NameError",
     "evalue": "name 'onlyfiles' is not defined",
     "output_type": "error",
     "traceback": [
      "\u001b[1;31m---------------------------------------------------------------------------\u001b[0m",
      "\u001b[1;31mNameError\u001b[0m                                 Traceback (most recent call last)",
      "\u001b[1;32m<ipython-input-57-4d2503affc43>\u001b[0m in \u001b[0;36m<module>\u001b[1;34m\u001b[0m\n\u001b[1;32m----> 1\u001b[1;33m \u001b[1;32mfor\u001b[0m \u001b[0ma\u001b[0m \u001b[1;32min\u001b[0m \u001b[0monlyfiles\u001b[0m\u001b[1;33m:\u001b[0m\u001b[1;33m\u001b[0m\u001b[1;33m\u001b[0m\u001b[0m\n\u001b[0m\u001b[0;32m      2\u001b[0m     \u001b[0mdf\u001b[0m \u001b[1;33m=\u001b[0m \u001b[0mpd\u001b[0m\u001b[1;33m.\u001b[0m\u001b[0mread_excel\u001b[0m\u001b[1;33m(\u001b[0m\u001b[1;34m'D:\\Aemet\\%s'\u001b[0m \u001b[1;33m%\u001b[0m\u001b[1;33m(\u001b[0m\u001b[0ma\u001b[0m\u001b[1;33m)\u001b[0m\u001b[1;33m,\u001b[0m\u001b[0mheader\u001b[0m \u001b[1;33m=\u001b[0m \u001b[1;36m4\u001b[0m \u001b[1;33m)\u001b[0m\u001b[1;33m\u001b[0m\u001b[1;33m\u001b[0m\u001b[0m\n\u001b[0;32m      3\u001b[0m     \u001b[0mdf1\u001b[0m \u001b[1;33m=\u001b[0m \u001b[0mdf\u001b[0m\u001b[1;33m.\u001b[0m\u001b[0mfillna\u001b[0m\u001b[1;33m(\u001b[0m\u001b[1;34m'0'\u001b[0m\u001b[1;33m)\u001b[0m\u001b[1;33m\u001b[0m\u001b[1;33m\u001b[0m\u001b[0m\n\u001b[0;32m      4\u001b[0m     \u001b[0mdf1\u001b[0m\u001b[1;33m[\u001b[0m\u001b[1;34m'Fecha'\u001b[0m\u001b[1;33m]\u001b[0m \u001b[1;33m=\u001b[0m \u001b[0ma\u001b[0m\u001b[1;33m\u001b[0m\u001b[1;33m\u001b[0m\u001b[0m\n\u001b[0;32m      5\u001b[0m     \u001b[1;32mfor\u001b[0m \u001b[0mi\u001b[0m \u001b[1;32min\u001b[0m \u001b[0mrange\u001b[0m\u001b[1;33m(\u001b[0m\u001b[0mlen\u001b[0m\u001b[1;33m(\u001b[0m\u001b[0mdf1\u001b[0m\u001b[1;33m)\u001b[0m\u001b[1;33m)\u001b[0m\u001b[1;33m:\u001b[0m\u001b[1;33m\u001b[0m\u001b[1;33m\u001b[0m\u001b[0m\n",
      "\u001b[1;31mNameError\u001b[0m: name 'onlyfiles' is not defined"
     ]
    }
   ],
   "source": [
    "# for a in onlyfiles:\n",
    "#     df = pd.read_excel('D:\\Aemet\\%s' %(a),header = 4 )\n",
    "#     df1 = df.fillna('0')\n",
    "#     df1['Fecha'] = a\n",
    "#     for i in range(len(df1)):\n",
    "#         sql = '''\n",
    "#         insert into DatosAemet (\n",
    "#         Estacion , \n",
    "#         Provincia , \n",
    "#         Temperaturamaxima ,\n",
    "#         Temperaturaminima , \n",
    "#         Temperaturamedia , \n",
    "#         Racha ,\n",
    "#         Velocidadmaxima , \n",
    "#         Precipitacion0024h ,\n",
    "#         Precipitacion0006h, \n",
    "#         Precipitacion0612h ,\n",
    "#         Precipitacion1218h ,\n",
    "#         Precipitacion1824h,\n",
    "#         Fecha)\n",
    "#         values (\n",
    "#         '%s',\n",
    "#         '%s',\n",
    "#         '%s',\n",
    "#         '%s',\n",
    "#         '%s',\n",
    "#         '%s',\n",
    "#         '%s',\n",
    "#         '%s',\n",
    "#         '%s',\n",
    "#         '%s',\n",
    "#         '%s',\n",
    "#         '%s',\n",
    "#         '%s'\n",
    "#         )\n",
    "#         ''' %(\n",
    "#         df1['Estación'].iloc[i].replace(\"'\",\"\"),\n",
    "#         df1['Provincia'].iloc[i],\n",
    "#         df1['Temperatura máxima (ºC)'].iloc[i],\n",
    "#         df1['Temperatura mínima (ºC)'].iloc[i],\n",
    "#         df1['Temperatura media (ºC)'].iloc[i],\n",
    "#         df1['Racha (km/h)'].iloc[i],\n",
    "#         df1['Velocidad máxima (km/h)'].iloc[i],\n",
    "#         df1['Precipitación 00-24h (mm)'].iloc[i],\n",
    "#         df1['Precipitación 00-06h (mm)'].iloc[i],\n",
    "#         df1['Precipitación 06-12h (mm)'].iloc[i],\n",
    "#         df1['Precipitación 12-18h (mm)'].iloc[i],\n",
    "#         df1['Precipitación 18-24h (mm)'].iloc[i],\n",
    "#         df1['Fecha'].iloc[i]\n",
    "#         )\n",
    "#         cursor.execute(sql)\n",
    "#         cursor.connection.commit()\n",
    "#     print(a)\n",
    "#     os.replace('D:\\Aemet\\%s' %(a), 'D:\\Aemet\\Archivo\\%s' %(a))\n",
    "\n"
   ]
  }
 ],
 "metadata": {
  "kernelspec": {
   "display_name": "Python 3",
   "language": "python",
   "name": "python3"
  },
  "language_info": {
   "codemirror_mode": {
    "name": "ipython",
    "version": 3
   },
   "file_extension": ".py",
   "mimetype": "text/x-python",
   "name": "python",
   "nbconvert_exporter": "python",
   "pygments_lexer": "ipython3",
   "version": "3.8.5"
  }
 },
 "nbformat": 4,
 "nbformat_minor": 4
}
