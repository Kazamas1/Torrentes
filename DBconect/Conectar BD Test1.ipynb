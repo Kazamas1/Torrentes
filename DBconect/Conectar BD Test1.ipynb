{
 "cells": [
  {
   "cell_type": "code",
   "execution_count": 1,
   "metadata": {},
   "outputs": [
    {
     "name": "stdout",
     "output_type": "stream",
     "text": [
      "Collecting mysql.connector\n",
      "  Downloading mysql-connector-2.2.9.tar.gz (11.9 MB)\n",
      "Building wheels for collected packages: mysql.connector\n",
      "  Building wheel for mysql.connector (setup.py): started\n",
      "  Building wheel for mysql.connector (setup.py): finished with status 'done'\n",
      "  Created wheel for mysql.connector: filename=mysql_connector-2.2.9-cp38-cp38-win_amd64.whl size=247947 sha256=5f640c37fdf5343bfc97de6b03a4434dd870e28e6418f96fb2a1ccfc78adabff\n",
      "  Stored in directory: c:\\users\\eugen\\appdata\\local\\pip\\cache\\wheels\\57\\e4\\98\\5feafb5c393dd2540e44b064a6f95832990d543e5b4f53ea8f\n",
      "Successfully built mysql.connector\n",
      "Installing collected packages: mysql.connector\n",
      "Successfully installed mysql.connector\n",
      "Collecting ys\n",
      "  Downloading ys-0.0.2-py3-none-any.whl (7.0 kB)\n",
      "Installing collected packages: ys\n",
      "Successfully installed ys-0.0.2\n",
      "Collecting boto3\n",
      "  Downloading boto3-1.21.31-py3-none-any.whl (132 kB)\n",
      "Collecting jmespath<2.0.0,>=0.7.1\n",
      "  Downloading jmespath-1.0.0-py3-none-any.whl (23 kB)\n",
      "Collecting botocore<1.25.0,>=1.24.31\n",
      "  Downloading botocore-1.24.32-py3-none-any.whl (8.6 MB)\n",
      "Collecting s3transfer<0.6.0,>=0.5.0\n",
      "  Downloading s3transfer-0.5.2-py3-none-any.whl (79 kB)\n",
      "Requirement already satisfied: python-dateutil<3.0.0,>=2.1 in c:\\users\\eugen\\anaconda3\\lib\\site-packages (from botocore<1.25.0,>=1.24.31->boto3) (2.8.1)\n",
      "Requirement already satisfied: urllib3<1.27,>=1.25.4 in c:\\users\\eugen\\anaconda3\\lib\\site-packages (from botocore<1.25.0,>=1.24.31->boto3) (1.25.11)\n",
      "Requirement already satisfied: six>=1.5 in c:\\users\\eugen\\anaconda3\\lib\\site-packages (from python-dateutil<3.0.0,>=2.1->botocore<1.25.0,>=1.24.31->boto3) (1.15.0)\n",
      "Installing collected packages: jmespath, botocore, s3transfer, boto3\n",
      "Successfully installed boto3-1.21.31 botocore-1.24.32 jmespath-1.0.0 s3transfer-0.5.2\n"
     ]
    },
    {
     "name": "stderr",
     "output_type": "stream",
     "text": [
      "ERROR: Could not find a version that satisfies the requirement os (from versions: none)\n",
      "ERROR: No matching distribution found for os\n"
     ]
    }
   ],
   "source": [
    "!pip install mysql.connector\n",
    "!pip install ys\n",
    "!pip install boto3\n",
    "!pip install os"
   ]
  },
  {
   "cell_type": "code",
   "execution_count": 2,
   "metadata": {},
   "outputs": [],
   "source": [
    "import mysql.connector\n",
    "import sys\n",
    "import boto3\n",
    "import os"
   ]
  },
  {
   "cell_type": "code",
   "execution_count": 3,
   "metadata": {},
   "outputs": [],
   "source": [
    "ENDPOINT ='database-test2.colignxg6rlu.eu-central-1.rds.amazonaws.com'\n",
    "PORT = '3306'\n",
    "USER = 'admin'\n",
    "REGION ='eu-central-1a'\n",
    "DBNAME = ''\n",
    "os.environ['LIBMYSQL_ENABLE_CLEARTEXT_PLUGIN'] = '1'"
   ]
  },
  {
   "cell_type": "code",
   "execution_count": null,
   "metadata": {},
   "outputs": [],
   "source": []
  },
  {
   "cell_type": "code",
   "execution_count": 7,
   "metadata": {},
   "outputs": [
    {
     "name": "stdout",
     "output_type": "stream",
     "text": [
      "[(datetime.datetime(2022, 4, 2, 8, 22, 39),)]\n"
     ]
    }
   ],
   "source": [
    "try:\n",
    "    conn =  mysql.connector.connect(host=ENDPOINT, user=USER, passwd='Ventana21', port=PORT, database=DBNAME)\n",
    "    cur = conn.cursor()\n",
    "    cur.execute(\"\"\"SELECT now()\"\"\")\n",
    "    query_results = cur.fetchall()\n",
    "    print(query_results)\n",
    "except Exception as e:\n",
    "        print(\"Database connection failed due to {}\".format(e))          \n"
   ]
  },
  {
   "cell_type": "code",
   "execution_count": 23,
   "metadata": {},
   "outputs": [],
   "source": [
    "conn =  mysql.connector.connect(host=ENDPOINT, user=USER, passwd='Ventana21', port=PORT, database=DBNAME)\n",
    "cur = conn.cursor()"
   ]
  },
  {
   "cell_type": "code",
   "execution_count": 24,
   "metadata": {},
   "outputs": [],
   "source": [
    "perro = cur.execute(\"\"\"SELECT * from  Torrentes.Prueba\"\"\")\n"
   ]
  },
  {
   "cell_type": "code",
   "execution_count": 26,
   "metadata": {},
   "outputs": [
    {
     "name": "stdout",
     "output_type": "stream",
     "text": [
      "None\n"
     ]
    }
   ],
   "source": [
    "print(perro)"
   ]
  },
  {
   "cell_type": "code",
   "execution_count": null,
   "metadata": {},
   "outputs": [],
   "source": []
  }
 ],
 "metadata": {
  "kernelspec": {
   "display_name": "Python 3",
   "language": "python",
   "name": "python3"
  },
  "language_info": {
   "codemirror_mode": {
    "name": "ipython",
    "version": 3
   },
   "file_extension": ".py",
   "mimetype": "text/x-python",
   "name": "python",
   "nbconvert_exporter": "python",
   "pygments_lexer": "ipython3",
   "version": "3.8.5"
  }
 },
 "nbformat": 4,
 "nbformat_minor": 4
}
